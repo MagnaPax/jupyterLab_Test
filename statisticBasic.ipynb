{
 "cells": [
  {
   "cell_type": "markdown",
   "metadata": {},
   "source": [
    "# 기초통계\n",
    "- 데이터에서 데이터 특징을 나타내는 여러 요소를 추출"
   ]
  },
  {
   "cell_type": "code",
   "execution_count": 1,
   "metadata": {},
   "outputs": [],
   "source": [
    "import numpy as np"
   ]
  },
  {
   "cell_type": "code",
   "execution_count": 5,
   "metadata": {},
   "outputs": [],
   "source": [
    "# 데이터 생성\n",
    "ar1 = np.array([1,2,3,4,5])\n",
    "ar2 = np.array([1,2,3,4,5,6])\n",
    "ar3 = np.array([[1,2], [3,4], [5,6]])"
   ]
  },
  {
   "cell_type": "code",
   "execution_count": 6,
   "metadata": {},
   "outputs": [
    {
     "name": "stdout",
     "output_type": "stream",
     "text": [
      "ar1의 크기 5\n",
      "ar2의 크기 6\n",
      "ar3의 크기 3\n"
     ]
    }
   ],
   "source": [
    "# 데이터 크기\n",
    "print(\"ar1의 크기\", len(ar1))\n",
    "print(\"ar2의 크기\", len(ar2))\n",
    "print(\"ar3의 크기\", len(ar3))"
   ]
  },
  {
   "cell_type": "code",
   "execution_count": 10,
   "metadata": {},
   "outputs": [
    {
     "name": "stdout",
     "output_type": "stream",
     "text": [
      "ar1의 형태 (5,)\n",
      "ar2의 형태 (6,)\n",
      "ar3의 형태 (3, 2)\n"
     ]
    }
   ],
   "source": [
    "# 데이터 형태\n",
    "print(\"ar1의 형태\", np.shape(ar1))\n",
    "print(\"ar2의 형태\", np.shape(ar2))\n",
    "print(\"ar3의 형태\", np.shape(ar3))"
   ]
  },
  {
   "cell_type": "code",
   "execution_count": 15,
   "metadata": {},
   "outputs": [
    {
     "name": "stdout",
     "output_type": "stream",
     "text": [
      "ar1의 평균 3.0\n",
      "ar2의 평균 3.5\n",
      "ar3의 평균 3.5\n"
     ]
    }
   ],
   "source": [
    "# 데이터 평균\n",
    "np.mean(ar1)\n",
    "print(\"ar1의 평균\", np.mean(ar1))\n",
    "print(\"ar2의 평균\", np.mean(ar2))\n",
    "print(\"ar3의 평균\", np.mean(ar3))"
   ]
  },
  {
   "cell_type": "code",
   "execution_count": 16,
   "metadata": {},
   "outputs": [
    {
     "name": "stdout",
     "output_type": "stream",
     "text": [
      "ar1의 평균 2.0\n",
      "ar2의 평균 2.9166666666666665\n",
      "ar3의 평균 2.9166666666666665\n"
     ]
    }
   ],
   "source": [
    "# 데이터 분산(넓게 퍼진 정도)\n",
    "np.var(ar1)\n",
    "print(\"ar1의 평균\", np.var(ar1))\n",
    "print(\"ar2의 평균\", np.var(ar2))\n",
    "print(\"ar3의 평균\", np.var(ar3))"
   ]
  },
  {
   "cell_type": "code",
   "execution_count": 20,
   "metadata": {},
   "outputs": [
    {
     "name": "stdout",
     "output_type": "stream",
     "text": [
      "ar1의 표준편차 1.4142135623730951\n",
      "ar2의 표준편차 1.707825127659933\n",
      "ar3의 표준편차 1.707825127659933\n"
     ]
    }
   ],
   "source": [
    "#표준편차\n",
    "np.std(ar1)\n",
    "print(\"ar1의 표준편차\", np.std(ar1))\n",
    "print(\"ar2의 표준편차\", np.std(ar2))\n",
    "print(\"ar3의 표준편차\", np.std(ar3))"
   ]
  },
  {
   "cell_type": "code",
   "execution_count": 22,
   "metadata": {},
   "outputs": [
    {
     "name": "stdout",
     "output_type": "stream",
     "text": [
      "ar1의 최대값 5\n",
      "ar2의 최대값 6\n",
      "ar3의 최대값 6\n"
     ]
    }
   ],
   "source": [
    "# 최대값\n",
    "np.max(ar1)\n",
    "print(\"ar1의 최대값\", np.max(ar1))\n",
    "print(\"ar2의 최대값\", np.max(ar2))\n",
    "print(\"ar3의 최대값\", np.max(ar3))"
   ]
  },
  {
   "cell_type": "code",
   "execution_count": 23,
   "metadata": {},
   "outputs": [
    {
     "name": "stdout",
     "output_type": "stream",
     "text": [
      "ar1의 중앙값 3.0\n",
      "ar2의 중앙값 3.5\n",
      "ar3의 중앙값 3.5\n"
     ]
    }
   ],
   "source": [
    "# 중앙값\n",
    "np.median(ar1)\n",
    "print(\"ar1의 중앙값\", np.median(ar1))\n",
    "print(\"ar2의 중앙값\", np.median(ar2))\n",
    "print(\"ar3의 중앙값\", np.median(ar3))"
   ]
  },
  {
   "cell_type": "code",
   "execution_count": 24,
   "metadata": {},
   "outputs": [
    {
     "name": "stdout",
     "output_type": "stream",
     "text": [
      "ar1의 1사분위 2.0\n",
      "ar2의 1사분위 2.25\n",
      "ar3의 1사분위 2.25\n"
     ]
    }
   ],
   "source": [
    "# 사분위수 1사분위:25, 3사분위:75\n",
    "np.percentile(ar1, 25)\n",
    "print(\"ar1의 1사분위\", np.percentile(ar1, 25))\n",
    "print(\"ar2의 1사분위\", np.percentile(ar2, 25))\n",
    "print(\"ar3의 1사분위\", np.percentile(ar3, 25))"
   ]
  }
 ],
 "metadata": {
  "kernelspec": {
   "display_name": "Python 3",
   "language": "python",
   "name": "python3"
  },
  "language_info": {
   "codemirror_mode": {
    "name": "ipython",
    "version": 3
   },
   "file_extension": ".py",
   "mimetype": "text/x-python",
   "name": "python",
   "nbconvert_exporter": "python",
   "pygments_lexer": "ipython3",
   "version": "3.7.7"
  }
 },
 "nbformat": 4,
 "nbformat_minor": 4
}
