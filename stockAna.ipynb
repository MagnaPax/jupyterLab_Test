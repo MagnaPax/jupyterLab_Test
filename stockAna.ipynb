{
 "cells": [
  {
   "cell_type": "markdown",
   "metadata": {},
   "source": [
    "### 주식분석\n",
    "- 대한항공 주식분석\n",
    "- 20년간 데이터 분석하여 최적의 매수 매매 타이밍 분석"
   ]
  },
  {
   "cell_type": "markdown",
   "metadata": {},
   "source": [
    "시계열 데이터"
   ]
  },
  {
   "cell_type": "code",
   "execution_count": 6,
   "metadata": {},
   "outputs": [],
   "source": [
    "import cx_Oracle\n",
    "import numpy as np\n",
    "import pandas as pd\n",
    "\n",
    "# 그래픽 위해\n",
    "import matplotlib as mpl\n",
    "import matplotlib.pyplot as plt"
   ]
  },
  {
   "cell_type": "code",
   "execution_count": 2,
   "metadata": {},
   "outputs": [],
   "source": [
    "# 변수지정\n",
    "uid = 'PROJECT1'\n",
    "upw = 'Test1234'\n",
    "url = 'localhost:1521/orcl'\n",
    "conn = cx_Oracle.connect(uid,upw,url)\n",
    "cursor=conn.cursor()"
   ]
  },
  {
   "cell_type": "code",
   "execution_count": 5,
   "metadata": {},
   "outputs": [
    {
     "data": {
      "text/plain": [
       "401"
      ]
     },
     "execution_count": 5,
     "metadata": {},
     "output_type": "execute_result"
    }
   ],
   "source": [
    "# 시게열 데이터\n",
    "sql=\"select * from STOCKNAV where SDATE>20190101 order by sdate asc\" # 20190101 부터 시간 순서대로 쭉\n",
    "cursor.execute(sql)\n",
    "res=cursor.fetchall()\n",
    "len(res)"
   ]
  },
  {
   "cell_type": "code",
   "execution_count": 4,
   "metadata": {},
   "outputs": [
    {
     "data": {
      "text/plain": [
       "[(425, 20190102, 32950, 32950, 32050, 32400, 349580, 0),\n",
       " (424, 20190103, 32700, 32950, 31650, 31800, 464995, 0),\n",
       " (423, 20190104, 31650, 32450, 31300, 32350, 424001, 0),\n",
       " (422, 20190107, 32600, 33500, 32300, 33500, 619120, 0),\n",
       " (421, 20190108, 33550, 34050, 32900, 33900, 515749, 0),\n",
       " (420, 20190109, 34000, 34150, 33750, 34000, 574199, 0),\n",
       " (419, 20190110, 33850, 33950, 33150, 33600, 320843, 0),\n",
       " (418, 20190111, 33750, 33850, 32900, 33200, 397027, 0),\n",
       " (417, 20190114, 33050, 34100, 33050, 33900, 375803, 0),\n",
       " (416, 20190115, 34000, 34300, 33800, 34200, 532772, 0)]"
      ]
     },
     "execution_count": 4,
     "metadata": {},
     "output_type": "execute_result"
    }
   ],
   "source": [
    "res[:10]"
   ]
  }
 ],
 "metadata": {
  "kernelspec": {
   "display_name": "Python 3",
   "language": "python",
   "name": "python3"
  },
  "language_info": {
   "codemirror_mode": {
    "name": "ipython",
    "version": 3
   },
   "file_extension": ".py",
   "mimetype": "text/x-python",
   "name": "python",
   "nbconvert_exporter": "python",
   "pygments_lexer": "ipython3",
   "version": "3.7.7"
  }
 },
 "nbformat": 4,
 "nbformat_minor": 4
}
