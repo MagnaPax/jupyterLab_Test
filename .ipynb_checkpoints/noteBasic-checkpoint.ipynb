{
 "cells": [
  {
   "cell_type": "markdown",
   "metadata": {},
   "source": [
    "# 제목1\n",
    "## 제목2\n",
    "### 제목3\n",
    "#### 제목4\n",
    "##### 제목5\n",
    "###### 제목6\n",
    "---\n",
    "***\n",
    "리스트 순서형 목록\n",
    "1. 홍길동\n",
    "2. 강감찬\n",
    "\n",
    "리스트 블릿형 목록\n",
    "* 경기도\n",
    " - 인천\n",
    " - 수원\n",
    "   - 대방동\n",
    "---\n",
    "### 인용문   \n",
    "> 아리스토텔레스는 이런말을 했다\n",
    ">> 인간은 사회적 동물이다\n",
    ">>> 시작이 반이다\n",
    ">>>> 행복은 우리 자신에게 달려있다\n",
    ">>>>> 자연이 하는일에 쓸데없는 일은 없다\n",
    ">>>>>> 아무말 대잔치\n",
    ">>>>>>> 늦었다고 할 때가 늦은거다\n",
    ">>>>>>>> 이런저런 이야기 하지만 결론은 너와는 사귀고 싶지 않다는 뜻입니다\n",
    ">>>>>>>>> 이것만 하고 이 바닥 뜬다"
   ]
  },
  {
   "cell_type": "raw",
   "metadata": {},
   "source": [
    "# RAW는 코드를 인용이나 참조할 때 많이 사용\n",
    "import numpy as np"
   ]
  },
  {
   "cell_type": "markdown",
   "metadata": {},
   "source": [
    "## 단축키\n",
    "### 형질변환 단축키\n",
    "- y: Code(코드)로 변환\n",
    "- m: Markdown 로 변환\n",
    "- r: RAW 로 변환\n",
    "\n",
    "### 흐름제어 단축키\n",
    "- a: 앞에 새로운 블럭 생성\n",
    "- b: 뒤에 새로운 블럭 생성\n",
    "- dd:삭제\n",
    "\n",
    "### 실행제어\n",
    "- ctrl + enter: 현재 실행 후 대기\n",
    "- shift + enter: 현재 실행 이후 블럭 생성"
   ]
  },
  {
   "cell_type": "code",
   "execution_count": 8,
   "metadata": {},
   "outputs": [
    {
     "ename": "SyntaxError",
     "evalue": "invalid syntax (<ipython-input-8-1b8c0520e563>, line 2)",
     "output_type": "error",
     "traceback": [
      "\u001b[1;36m  File \u001b[1;32m\"<ipython-input-8-1b8c0520e563>\"\u001b[1;36m, line \u001b[1;32m2\u001b[0m\n\u001b[1;33m    1. 홍길동\u001b[0m\n\u001b[1;37m         ^\u001b[0m\n\u001b[1;31mSyntaxError\u001b[0m\u001b[1;31m:\u001b[0m invalid syntax\n"
     ]
    }
   ],
   "source": [
    "# Code 는 실행된다\n",
    "1. 홍길동\n",
    "2. 강감찬"
   ]
  }
 ],
 "metadata": {
  "kernelspec": {
   "display_name": "Python 3",
   "language": "python",
   "name": "python3"
  },
  "language_info": {
   "codemirror_mode": {
    "name": "ipython",
    "version": 3
   },
   "file_extension": ".py",
   "mimetype": "text/x-python",
   "name": "python",
   "nbconvert_exporter": "python",
   "pygments_lexer": "ipython3",
   "version": "3.7.7"
  }
 },
 "nbformat": 4,
 "nbformat_minor": 4
}
