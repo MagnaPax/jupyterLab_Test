{
 "cells": [
  {
   "cell_type": "markdown",
   "metadata": {},
   "source": [
    "### 주식 정보 가져오기\n",
    "* url=https://finance.naver.com/item/sise_day.nhn?code=003490&page=1\n",
    "* url로부터 html 가져오기 requests\n",
    "* 가져온 html로부터 분석하기 BeautifulSoup\n",
    "* 해당객체의 정보 가져오기"
   ]
  },
  {
   "cell_type": "code",
   "execution_count": 4,
   "metadata": {},
   "outputs": [],
   "source": [
    "import requests\n",
    "from bs4 import BeautifulSoup"
   ]
  },
  {
   "cell_type": "code",
   "execution_count": 5,
   "metadata": {},
   "outputs": [],
   "source": [
    "url='https://finance.naver.com/item/sise_day.nhn?code=003490&page=1'"
   ]
  },
  {
   "cell_type": "code",
   "execution_count": 6,
   "metadata": {},
   "outputs": [
    {
     "data": {
      "text/plain": [
       "<Response [200]>"
      ]
     },
     "execution_count": 6,
     "metadata": {},
     "output_type": "execute_result"
    }
   ],
   "source": [
    "req=requests.get(url)\n",
    "req"
   ]
  },
  {
   "cell_type": "code",
   "execution_count": 7,
   "metadata": {},
   "outputs": [
    {
     "data": {
      "text/plain": [
       "'\\n\\n\\n\\n\\n\\n\\n<html lang=\"ko\">\\n<head>\\n<meta http-equiv=\"Content-Type\" content=\"text/html; charset=euc-kr\">\\n'"
      ]
     },
     "execution_count": 7,
     "metadata": {},
     "output_type": "execute_result"
    }
   ],
   "source": [
    "req.text[:100]"
   ]
  },
  {
   "cell_type": "code",
   "execution_count": 8,
   "metadata": {},
   "outputs": [
    {
     "data": {
      "text/plain": [
       "'\\n\\n\\n\\n\\n\\n\\n<html lang=\"ko\">\\n<head>\\n<meta http-equiv=\"Content-Type\" content=\"text/html; charset=euc-kr\">\\n<title>네이버 금융</title>\\n<link rel=\"stylesheet\" type=\"text/css\" href=\"/css/newstock.css?20200806200958\"'"
      ]
     },
     "execution_count": 8,
     "metadata": {},
     "output_type": "execute_result"
    }
   ],
   "source": [
    "html=req.text\n",
    "html[:200]"
   ]
  },
  {
   "cell_type": "code",
   "execution_count": 9,
   "metadata": {},
   "outputs": [
    {
     "data": {
      "text/plain": [
       "bs4.BeautifulSoup"
      ]
     },
     "execution_count": 9,
     "metadata": {},
     "output_type": "execute_result"
    }
   ],
   "source": [
    "soup=BeautifulSoup(html,'html.parser')\n",
    "type(soup)"
   ]
  },
  {
   "cell_type": "code",
   "execution_count": 15,
   "metadata": {},
   "outputs": [
    {
     "data": {
      "text/plain": [
       "16"
      ]
     },
     "execution_count": 15,
     "metadata": {},
     "output_type": "execute_result"
    }
   ],
   "source": [
    "data=soup.select('table.type2 > tr')\n",
    "len(data)"
   ]
  },
  {
   "cell_type": "code",
   "execution_count": 30,
   "metadata": {},
   "outputs": [
    {
     "name": "stdout",
     "output_type": "stream",
     "text": [
      "[20200812, 19250, 20100, 19050, 19550, 8846552]\n",
      "[20200811, 19350, 19550, 18850, 18900, 3632851]\n",
      "[20200810, 19000, 19100, 18350, 18750, 3821098]\n",
      "[20200807, 20500, 20950, 18850, 19100, 15844472]\n",
      "[20200806, 17400, 18200, 17350, 18100, 5637601]\n",
      "[20200805, 17400, 17500, 17100, 17250, 1410989]\n",
      "[20200804, 17100, 17400, 17050, 17350, 1176523]\n",
      "[20200803, 17350, 17350, 17000, 17150, 1738510]\n",
      "[20200731, 17400, 17500, 17100, 17400, 1733960]\n",
      "[20200730, 17500, 17650, 17300, 17400, 1859030]\n"
     ]
    }
   ],
   "source": [
    "#o h l c \n",
    "for d in data:\n",
    "    tgt=d.select('td')\n",
    "    n=len(d.select('td.num'))\n",
    "    if(n>0):\n",
    "        sdate=tgt[0].get_text().replace(\".\",\"\")\n",
    "        endp=tgt[1].get_text().replace(\",\",\"\")\n",
    "        startp=tgt[3].get_text().replace(\",\",\"\")\n",
    "        maxp=tgt[4].get_text().replace(\",\",\"\")\n",
    "        minp=tgt[5].get_text().replace(\",\",\"\")\n",
    "        vol=tgt[6].get_text().replace(\",\",\"\")\n",
    "        t=[int(sdate),int(startp),int(maxp),int(minp),int(endp),int(vol)]\n",
    "        print(t)\n",
    "        "
   ]
  },
  {
   "cell_type": "code",
   "execution_count": 32,
   "metadata": {},
   "outputs": [],
   "source": [
    "import cx_Oracle"
   ]
  },
  {
   "cell_type": "code",
   "execution_count": 88,
   "metadata": {},
   "outputs": [
    {
     "name": "stdout",
     "output_type": "stream",
     "text": [
      "<cx_Oracle.Cursor on <cx_Oracle.Connection to PROJECT1@localhost:1521/orcl>>\n"
     ]
    }
   ],
   "source": [
    "uid='PROJECT1'\n",
    "upw='test1234'\n",
    "url='localhost:1521/orcl'\n",
    "conn=cx_Oracle.connect(uid,upw,url)\n",
    "cursor=conn.cursor()\n",
    "print(cursor)"
   ]
  },
  {
   "cell_type": "raw",
   "metadata": {},
   "source": [
    "##에러처리\n",
    "for error in curr.getbatcherrors():\n",
    "    print(\"Error\", error.message.rstrip(), \"at row offset\", error.offset)"
   ]
  },
  {
   "cell_type": "code",
   "execution_count": 89,
   "metadata": {},
   "outputs": [
    {
     "name": "stdout",
     "output_type": "stream",
     "text": [
      "[]\n",
      "[error] insert into STOCKNAV (SIDX,SDATE,OPENP,HIGHP,LOWP,CLOSEP,VOL,SSTAT)  values(STOCK_SEQ.NEXTVAL,20200811,19250,20100,19050,19550,8846552,0)\n"
     ]
    },
    {
     "data": {
      "text/plain": [
       "0"
      ]
     },
     "execution_count": 89,
     "metadata": {},
     "output_type": "execute_result"
    }
   ],
   "source": [
    "#data=[20200812, 19250, 20100, 19050, 19550, 8846552]\n",
    "def insertStock(data=[]):\n",
    "    sql=\"insert into STOCKNAV (SIDX,SDATE,OPENP,HIGHP,LOWP,CLOSEP,VOL,SSTAT)  values(STOCK_SEQ.NEXTVAL,{0},{1},{2},{3},{4},{5},0)\"\n",
    "    sql1=sql.format(*data)\n",
    "    try:\n",
    "        cursor.execute(sql1)\n",
    "        return(1)\n",
    "    except:\n",
    "        print(cursor.getbatcherrors())\n",
    "        for error in cursor.getbatcherrors():\n",
    "             print(\"Error\", error.message.rstrip())\n",
    "        print(\"[error]\",sql1)\n",
    "        return(0)\n",
    "insertStock(data)"
   ]
  },
  {
   "cell_type": "code",
   "execution_count": 90,
   "metadata": {},
   "outputs": [
    {
     "name": "stdout",
     "output_type": "stream",
     "text": [
      "데이터 중복\n"
     ]
    }
   ],
   "source": [
    "data=[20200811, 19250, 20100, 19050, 19550, 8846552]\n",
    "def addData(data):\n",
    "    sql=\"select * from STOCKNAV where SDATE=\"+str(data[0])\n",
    "    cursor.execute(sql)\n",
    "    res=cursor.fetchall()\n",
    "    if(len(res)>0):\n",
    "        print(\"데이터 중복\")\n",
    "    else:\n",
    "        print(\"입력가능 \")\n",
    "        insertStock(data)\n",
    "        conn.commit()\n",
    "addData(data)"
   ]
  },
  {
   "cell_type": "code",
   "execution_count": null,
   "metadata": {},
   "outputs": [],
   "source": []
  }
 ],
 "metadata": {
  "kernelspec": {
   "display_name": "Python 3",
   "language": "python",
   "name": "python3"
  },
  "language_info": {
   "codemirror_mode": {
    "name": "ipython",
    "version": 3
   },
   "file_extension": ".py",
   "mimetype": "text/x-python",
   "name": "python",
   "nbconvert_exporter": "python",
   "pygments_lexer": "ipython3",
   "version": "3.7.7"
  }
 },
 "nbformat": 4,
 "nbformat_minor": 4
}
