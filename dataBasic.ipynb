{
 "cells": [
  {
   "cell_type": "markdown",
   "metadata": {},
   "source": [
    "### 데이터 다루기 기초\n",
    "#### numpy\n",
    "- 수치 기반 라이브러리\n",
    "- 고속 수학 처리 라이브러리로 벡터 연산에 강함\n",
    "- 모든 원소를 동일 자료형으로 변환\n",
    " - 배열을 제공\n",
    " - [1, 2, \"3\", \"4.5\"] -(변환)-> [1, 2, 3, 4.5]\n",
    "- 각종 수학함수 제공"
   ]
  },
  {
   "cell_type": "code",
   "execution_count": 1,
   "metadata": {},
   "outputs": [],
   "source": [
    "#라이브러리 호출\n",
    "import numpy as np"
   ]
  },
  {
   "cell_type": "code",
   "execution_count": 7,
   "metadata": {},
   "outputs": [
    {
     "data": {
      "text/plain": [
       "numpy.ndarray"
      ]
     },
     "execution_count": 7,
     "metadata": {},
     "output_type": "execute_result"
    }
   ],
   "source": [
    "# 넘파이 배열 생성\n",
    "ar1 = np.array([0,1,2,3])\n",
    "type(ar)"
   ]
  },
  {
   "cell_type": "code",
   "execution_count": 6,
   "metadata": {},
   "outputs": [
    {
     "name": "stdout",
     "output_type": "stream",
     "text": [
      "['0' '1' '2' '3']\n",
      "<class 'numpy.ndarray'>\n"
     ]
    },
    {
     "data": {
      "text/plain": [
       "array(['0', '1', '2', '3'], dtype='<U11')"
      ]
     },
     "execution_count": 6,
     "metadata": {},
     "output_type": "execute_result"
    }
   ],
   "source": [
    "# 묵시적 동일 데이터 형변환\n",
    "ar = np.array([0,\"1\",\"2\",3])\n",
    "print(ar)\n",
    "print(type(ar))\n",
    "ar"
   ]
  },
  {
   "cell_type": "code",
   "execution_count": 11,
   "metadata": {},
   "outputs": [
    {
     "name": "stdout",
     "output_type": "stream",
     "text": [
      "[0, 2, 4, 6]\n"
     ]
    },
    {
     "data": {
      "text/plain": [
       "list"
      ]
     },
     "execution_count": 11,
     "metadata": {},
     "output_type": "execute_result"
    }
   ],
   "source": [
    "result=[]\n",
    "for i in ar1:\n",
    "    result.append(i*2)\n",
    "print(result)\n",
    "type(result)"
   ]
  },
  {
   "cell_type": "code",
   "execution_count": 12,
   "metadata": {},
   "outputs": [
    {
     "data": {
      "text/plain": [
       "[0, 2, 4, 6, 0, 2, 4, 6]"
      ]
     },
     "execution_count": 12,
     "metadata": {},
     "output_type": "execute_result"
    }
   ],
   "source": [
    "result1=result*2\n",
    "result1"
   ]
  },
  {
   "cell_type": "code",
   "execution_count": 16,
   "metadata": {},
   "outputs": [
    {
     "data": {
      "text/plain": [
       "array([ 0,  4,  8, 12])"
      ]
     },
     "execution_count": 16,
     "metadata": {},
     "output_type": "execute_result"
    }
   ],
   "source": [
    "# 행렬의 상수곱\n",
    "resNp = np.array(result)\n",
    "result3 = resNp*2\n",
    "result3"
   ]
  },
  {
   "cell_type": "code",
   "execution_count": 20,
   "metadata": {},
   "outputs": [
    {
     "name": "stdout",
     "output_type": "stream",
     "text": [
      "[0 1 2 3]\n",
      "[0 2 4 6]\n"
     ]
    },
    {
     "data": {
      "text/plain": [
       "array([0, 3, 6, 9])"
      ]
     },
     "execution_count": 20,
     "metadata": {},
     "output_type": "execute_result"
    }
   ],
   "source": [
    "# 행렬의 덧셈\n",
    "# 같은 차수에 맞는 수끼리 더한 행렬 생성\n",
    "print(ar1)\n",
    "print(resNp)\n",
    "resAr = ar1 + resNp\n",
    "resAr"
   ]
  },
  {
   "cell_type": "code",
   "execution_count": 23,
   "metadata": {},
   "outputs": [
    {
     "data": {
      "text/plain": [
       "array([False, False, False,  True])"
      ]
     },
     "execution_count": 23,
     "metadata": {},
     "output_type": "execute_result"
    }
   ],
   "source": [
    "# 행렬의 비교\n",
    "resComparison = ar1>2\n",
    "resComparison"
   ]
  },
  {
   "cell_type": "code",
   "execution_count": 26,
   "metadata": {},
   "outputs": [
    {
     "name": "stdout",
     "output_type": "stream",
     "text": [
      "1 차원 행렬이며 4 개의 원소를 가지고 있습니다\n"
     ]
    }
   ],
   "source": [
    "# 행렬의 성질\n",
    "print(np.ndim(ar1), \"차원 행렬이며\", len(ar1), \"개의 원소를 가지고 있습니다\")"
   ]
  },
  {
   "cell_type": "code",
   "execution_count": 29,
   "metadata": {},
   "outputs": [
    {
     "data": {
      "text/plain": [
       "array([ 2,  6, 12])"
      ]
     },
     "execution_count": 29,
     "metadata": {},
     "output_type": "execute_result"
    }
   ],
   "source": [
    "# 행렬의 곱 : 동일차원 동일원소 갯수일 때\n",
    "ar11 = np.array([1, 2, 3])\n",
    "ar12 = np.array([2, 3, 4])\n",
    "ar11*ar2"
   ]
  },
  {
   "cell_type": "code",
   "execution_count": 35,
   "metadata": {},
   "outputs": [
    {
     "name": "stdout",
     "output_type": "stream",
     "text": [
      "2 차원 행렬이며 4 개의 원소를 가지고 있습니다\n"
     ]
    },
    {
     "data": {
      "text/plain": [
       "array([[1],\n",
       "       [2],\n",
       "       [3],\n",
       "       [4]])"
      ]
     },
     "execution_count": 35,
     "metadata": {},
     "output_type": "execute_result"
    }
   ],
   "source": [
    "ar21 = np.array([[1], [2], [3], [4]])\n",
    "print(np.ndim(ar21), \"차원 행렬이며\", len(ar21), \"개의 원소를 가지고 있습니다\")\n",
    "ar21"
   ]
  },
  {
   "cell_type": "code",
   "execution_count": 37,
   "metadata": {},
   "outputs": [
    {
     "data": {
      "text/plain": [
       "array([[ 1,  2,  3],\n",
       "       [ 2,  4,  6],\n",
       "       [ 3,  6,  9],\n",
       "       [ 4,  8, 12]])"
      ]
     },
     "execution_count": 37,
     "metadata": {},
     "output_type": "execute_result"
    }
   ],
   "source": [
    "ar11*ar21"
   ]
  },
  {
   "cell_type": "code",
   "execution_count": 39,
   "metadata": {},
   "outputs": [
    {
     "name": "stdout",
     "output_type": "stream",
     "text": [
      "[1 2 3]\n",
      "[[1]\n",
      " [2]\n",
      " [3]\n",
      " [4]]\n"
     ]
    },
    {
     "data": {
      "text/plain": [
       "array([[2, 3, 4],\n",
       "       [3, 4, 5],\n",
       "       [4, 5, 6],\n",
       "       [5, 6, 7]])"
      ]
     },
     "execution_count": 39,
     "metadata": {},
     "output_type": "execute_result"
    }
   ],
   "source": [
    "# 브로드캐스팅\n",
    "print(ar11)\n",
    "print(ar21)\n",
    "ar11+ar21"
   ]
  },
  {
   "cell_type": "code",
   "execution_count": 43,
   "metadata": {},
   "outputs": [
    {
     "data": {
      "text/plain": [
       "array([[ 1,  4],\n",
       "       [ 9, 16]])"
      ]
     },
     "execution_count": 43,
     "metadata": {},
     "output_type": "execute_result"
    }
   ],
   "source": [
    "### 2차원 행렬 연산\n",
    "ar22=np.array([[1,2], [3,4]])\n",
    "ar23=np.array([[1,2], [3,4]])\n",
    "ar22*ar23"
   ]
  },
  {
   "cell_type": "code",
   "execution_count": 48,
   "metadata": {},
   "outputs": [
    {
     "name": "stdout",
     "output_type": "stream",
     "text": [
      "3 차원 행렬이며 2 개의 원소를 가지고 있습니다\n",
      "(0, array([[1, 2],\n",
      "       [3, 4]]))\n",
      "(1, array([[4, 5],\n",
      "       [6, 7]]))\n"
     ]
    }
   ],
   "source": [
    "#### 3차원 행렬\n",
    "ar31 = np.array([[[1,2], [3,4]],[[4,5],[6,7]]])\n",
    "print(np.ndim(ar31), \"차원 행렬이며\", len(ar31), \"개의 원소를 가지고 있습니다\")\n",
    "for i in enumerate(ar31):\n",
    "    print(i)"
   ]
  },
  {
   "cell_type": "code",
   "execution_count": 64,
   "metadata": {},
   "outputs": [
    {
     "name": "stdout",
     "output_type": "stream",
     "text": [
      "[[5 6]\n",
      " [7 8]]\n",
      "[[1 2]\n",
      " [3 4]]\n",
      "############### 행렬의 곱[동일 위치에 있는 요소끼리 곱한다] ###############\n",
      "[[ 5 12]\n",
      " [21 32]]\n",
      "############### 벡터내적 ###############\n",
      "[[23 34]\n",
      " [31 46]]\n"
     ]
    }
   ],
   "source": [
    "# 수학적 행렬 계산 형태인 벡터의 내적 형태가 아닌 \n",
    "# 단순하게 동일 위치에 있는 요소끼리 곱한다\n",
    "ar21 = np.array([[5,6], [7,8]])\n",
    "ar22 = np.array([[1,2], [3,4]])\n",
    "print(ar21)\n",
    "print(ar22)\n",
    "print(\"#\"*15, '행렬의 곱[동일 위치에 있는 요소끼리 곱한다]', \"#\"*15)\n",
    "print(ar21*ar22)\n",
    "print(\"#\"*15, '벡터내적', \"#\"*15)\n",
    "print(np.dot(ar21,ar22))"
   ]
  },
  {
   "cell_type": "code",
   "execution_count": 66,
   "metadata": {},
   "outputs": [
    {
     "name": "stdout",
     "output_type": "stream",
     "text": [
      "############### 슬라이싱[인덱스1번째부터] ###############\n",
      "[[ 7  8]\n",
      " [ 9 10]]\n",
      "############### 인덱싱[인덱스1번] ###############\n",
      "[7 8]\n",
      "############### - 슬라이싱[인덱스 -1번째부터] ###############\n",
      "[[ 9 10]]\n"
     ]
    }
   ],
   "source": [
    "ar21=np.array([[5,6], [7,8], [9,10]])\n",
    "print(\"#\"*15, '슬라이싱[인덱스1번째부터]', \"#\"*15)\n",
    "print(ar21[1:]) # 슬라이싱\n",
    "print(\"#\"*15, '인덱싱[인덱스1번]', \"#\"*15)\n",
    "print(ar21[1]) # 인덱싱\n",
    "print(\"#\"*15, '- 슬라이싱[인덱스 -1번째부터]', \"#\"*15)\n",
    "print(ar21[-1:])"
   ]
  }
 ],
 "metadata": {
  "kernelspec": {
   "display_name": "Python 3",
   "language": "python",
   "name": "python3"
  },
  "language_info": {
   "codemirror_mode": {
    "name": "ipython",
    "version": 3
   },
   "file_extension": ".py",
   "mimetype": "text/x-python",
   "name": "python",
   "nbconvert_exporter": "python",
   "pygments_lexer": "ipython3",
   "version": "3.7.7"
  }
 },
 "nbformat": 4,
 "nbformat_minor": 4
}
